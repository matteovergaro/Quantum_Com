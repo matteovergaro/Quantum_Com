{
  "nbformat": 4,
  "nbformat_minor": 0,
  "metadata": {
    "colab": {
      "provenance": [],
      "include_colab_link": true
    },
    "kernelspec": {
      "name": "python3",
      "display_name": "Python 3"
    },
    "language_info": {
      "name": "python"
    }
  },
  "cells": [
    {
      "cell_type": "markdown",
      "metadata": {
        "id": "view-in-github",
        "colab_type": "text"
      },
      "source": [
        "<a href=\"https://colab.research.google.com/github/matteovergaro/Quantum_Com/blob/main/3_QL1_Qubits_examples.ipynb\" target=\"_parent\"><img src=\"https://colab.research.google.com/assets/colab-badge.svg\" alt=\"Open In Colab\"/></a>"
      ]
    },
    {
      "cell_type": "markdown",
      "source": [
        "*All source material is copyright of NetSquid*"
      ],
      "metadata": {
        "id": "nPXUeUpi7_eh"
      }
    },
    {
      "cell_type": "markdown",
      "source": [
        "Before using this Notebook, make a copy by clicking File > Save a copy in Drive. This will save your own copy you can make changes to."
      ],
      "metadata": {
        "id": "xhECnPsD1fvR"
      }
    },
    {
      "cell_type": "markdown",
      "source": [
        "# 1.0 NetSquid Installation\n",
        "\n",
        "\n"
      ],
      "metadata": {
        "id": "X0o5dBHy0z6S"
      }
    },
    {
      "cell_type": "code",
      "execution_count": null,
      "metadata": {
        "id": "ey_cGaiH0E-p"
      },
      "outputs": [],
      "source": [
        "import os\n",
        "\n",
        "def restart_runtime():\n",
        "    os.kill(os.getpid(), 9)\n",
        "\n",
        "# comment these 2 lines out after running\n",
        "#!pip3 install --user --extra-index-url https://<username>:<password>@pypi.netsquid.org netsquid\n",
        "#restart_runtime()"
      ]
    },
    {
      "cell_type": "markdown",
      "source": [
        "After running the above code block, it is recommended to comment out the following lines\n",
        "\n",
        "```\n",
        "!pip3 install --user --extra-index-url https://<username>:<password>@pypi.netsquid.org netsquid\n",
        "restart_runtime()\n",
        "```"
      ],
      "metadata": {
        "id": "mj6EBl62Fegs"
      }
    },
    {
      "cell_type": "code",
      "source": [
        "import netsquid as ns"
      ],
      "metadata": {
        "id": "ryVcYMNr3zqN"
      },
      "execution_count": null,
      "outputs": []
    },
    {
      "cell_type": "markdown",
      "source": [
        "# Excercise 1 - Bell State Creation\n",
        "Create the Bell-State Psi Plus = (1/root(2))(|01> + |10>)\n",
        "\n",
        "You may only use the *ns.qubits.operate()* function.\n",
        "\n",
        "Hint: The Psi Plus state differs from the Phi Plus (1/root(2))(|00> + |11>) state by a single gate applied to the second qubit."
      ],
      "metadata": {
        "id": "r-27muyodVXO"
      }
    },
    {
      "cell_type": "code",
      "source": [
        "b0, b1 = ns.qubits.create_qubits(2) # b0, b1: |0>\n",
        "# ToDo:\n",
        "\n",
        "print(ns.qubits.reduced_dm([b0, b1]))"
      ],
      "metadata": {
        "id": "fWoebBWgdTPD"
      },
      "execution_count": null,
      "outputs": []
    },
    {
      "cell_type": "markdown",
      "source": [
        "Fidelity of your qubits vs. the Phi Plus state should be ~1.0"
      ],
      "metadata": {
        "id": "K1nwZtxmfIOX"
      }
    },
    {
      "cell_type": "code",
      "source": [
        "# verify your Psi+ Bell-state\n",
        "print(ns.qubits.fidelity([b0, b1], ns.b01))"
      ],
      "metadata": {
        "id": "9Y-cFnCveoci"
      },
      "execution_count": null,
      "outputs": []
    },
    {
      "cell_type": "markdown",
      "source": [
        "# Exercise 2 - Repeated Teleportation\n",
        "You will now design a similar simulation to the teleportation simulation provided in lecture, however you will repeat it twice.  \n",
        "\n",
        "The first code block will create a Bell-pair between Alice and Bob, as well as a qubit X to be teleported from Alice to Bob. In the next code block, you will create another round of teleportation from Bob to Charlie.\n",
        "\n",
        "\n",
        "Teleportation overview:\n",
        "1.   Bell-Pair (alice_B, bob_B) are prepared.\n",
        "2.   Alice prepares the qubit X to be teleported (alice_X) in some quantum state\n",
        "3.   Alice performs a Bell-state measurement on her Bell-state (alice_B) and her qubit to be teleported (alice_X). The BSM is a joint measurement performed using the gmeasure() function.\n",
        "4.   Based on the result of Alice's measurement, Bob performs certain quantum operations (i.e. corrections) to convert (i.e. teleport) his Bell-state (bob_B) into Alice_X qubit.\n",
        "\n",
        "\n",
        "*Any comment with a number requires 1 single line of code below it.*"
      ],
      "metadata": {
        "id": "6SikMKf8ZjXw"
      }
    },
    {
      "cell_type": "code",
      "source": [
        "ns.set_random_state(seed=40)\n",
        "ns.sim_reset()\n",
        "\n",
        "# 1. create qubit objects\n",
        "# Note: to use assign_qstate(), we must set no_state=True\n",
        "# alice_B, bob_B, alice_X =\n",
        "\n",
        "# 2. Create the Bell-Pairs in state (|00> + |11>)/sqrt(2)\n",
        "\n",
        "# verify Bell-State\n",
        "print(\"Bell-state between Alice and Bob:\\n\", ns.qubits.reduced_dm([alice_B, bob_B]))\n",
        "\n",
        "# 2. Prepare the state to be teleported in the state |1>\n",
        "# Note: use ns.qubits.assign_qstate(), and ns.s1 as the state\n",
        "\n",
        "print(\"alice_X state:\\n\", ns.qubits.reduced_dm([alice_X]))\n",
        "\n",
        "# 3. Alice perfoms joint BSM on her Bell-state and her qubit X\n",
        "# Note: use ns.qubits.gmeasure()\n",
        "# meas, prob =\n",
        "labels_bell = (\"|00>\", \"|01>\", \"|10>\", \"|11>\")\n",
        "print(f\"\\nMeasured {labels_bell[meas]} with prob {prob:.2f}\")\n",
        "gm_alice_X = int(labels_bell[meas][1])\n",
        "gm_alice_B = int(labels_bell[meas][2])\n",
        "\n",
        "\n",
        "# 4. Bob may need to apply corrections to his Bell-state to recover X depending on the result of Alice's BSM\n",
        "# if the outcome of the alice_B measurement is 1, apply a X-gate\n",
        "\n",
        "# if the outcome of the alice_X measurement is 1, apply a Z-gate\n",
        "\n",
        "\n",
        "# verify teleported state\n",
        "print(\"\\nVerify Bob's received teleported state\\n\", ns.qubits.reduced_dm([bob_B]))"
      ],
      "metadata": {
        "id": "QoAmxlLvfgDQ"
      },
      "execution_count": null,
      "outputs": []
    },
    {
      "cell_type": "markdown",
      "source": [
        "Now, create a similar circuit for the teleportation of this state from Bob to Charlie.\n",
        "\n",
        "We only need to create 2 new qubit objects this time, instead of 3 before, why is this?\n",
        "\n",
        "We will also simulate noisy devices decreasing our teleported qubit fidelity. We will later learn how to directly simulate noise while qubits idle in quantum memory, and as they traverse quantum channels. For now, we can use the method we learned in Section 4 of the lecture material, the *delay_depolarize(depolar_rate [Hz], delay [ns])* function.\n",
        "\n",
        "Assuming Bob creates the two entangled qubits, we need to simulate the following sources of noise and their associated delays:\n",
        "- Bob's entangled qubit idling in memory before BSM (1 second / 1e9 nanoseconds)\n",
        "- Bob's qubit to be teleported idling in memory before BSM (1 second / 1e9 nanoseconds).\n",
        "- Charlie's entangled qubit traversing the channel from Bob to charlie (.1 second / 1e8 nanoseconds)\n",
        "- Charlie's entangled qubit idling in memory while waiting for classical corrections from Bob (1 second / 1e9 nanoseconds)\n",
        "\n",
        "Assume all quantum memories have a depolarization rate of 5e4 Hz, and quantum channels have a depolarization rate of 1e4 Hz.\n",
        "\n",
        "You must add the *delay_depolarize()* function calls where you see fit to create this simulation (there are not numbers indicating where to put these functions).\n",
        "\n"
      ],
      "metadata": {
        "id": "IvFBpKRFqy8-"
      }
    },
    {
      "cell_type": "code",
      "source": [
        "# 1. Create the necessary qubit objects\n",
        "# Note: to use assign_qstate(), we must set no_state=True\n",
        "# bob_B2, charlie_B =\n",
        "\n",
        "# 2. Create the Bell-Pairs in state (|00> + |11>)/sqrt(2)\n",
        "\n",
        "# verify Bell-State\n",
        "print(\"Bell-state between Bob and Charlie:\\n\", ns.qubits.reduced_dm([bob_B2, charlie_B]))\n",
        "\n",
        "# 3. Bob perfoms joint BSM on his Bell-state and the qubit to be teleported\n",
        "# use ns.qubits.gmeasure()\n",
        "# meas, prob =\n",
        "labels_bell = (\"|00>\", \"|01>\", \"|10>\", \"|11>\")\n",
        "print(f\"\\nMeasured {labels_bell[meas]} with prob {prob:.2f}\")\n",
        "gm_bob_B = int(labels_bell[meas][1])\n",
        "gm_bob_B2 = int(labels_bell[meas][2])\n",
        "\n",
        "\n",
        "# 4. Charlie may need to apply corrections to his Bell-state to recover X depending on the result of Bob's BSM\n",
        "# if the outcome of the bob_B2 measurement is 1, apply a X-gate\n",
        "\n",
        "# if the outcome of the alice_X measurement is 1, apply a Z-gate\n",
        "\n",
        "# verify teleported state\n",
        "print(\"\\nVerify Charlies's received teleported state\\n\", ns.qubits.reduced_dm([charlie_B]))\n",
        "# 5. verify fidelity\n",
        "#fidelity =\n",
        "print(\"Teleported state fidelity:\", fidelity)"
      ],
      "metadata": {
        "id": "YLQUzuMsrFFW"
      },
      "execution_count": null,
      "outputs": []
    },
    {
      "cell_type": "markdown",
      "source": [
        "# Ex 3: Noise Investigation\n",
        "\n",
        "We will run our first investigation with NetSquid, investigating the effect of qubit idle time on the qubit fidelity.\n",
        "\n",
        "In Excercise 1, you will create the |B00> Bell-state then apply depolarization noise with a constant depolarization rate, over a range of delay values. In other words, we will simulate the effect of on entanglement fidelity of a constant noise rate application over variable time. We will also print the initial, pure Bell-state\n",
        "\n",
        "Some code has been provided for you, such as the delay iteration and graph plotting. As above, any comment with a number requires you to type a one line of code below.\n"
      ],
      "metadata": {
        "id": "UD9RCz26jycE"
      }
    },
    {
      "cell_type": "code",
      "source": [
        "import matplotlib.pyplot as plt\n",
        "\n",
        "ns.set_random_state(seed=42)\n",
        "\n",
        "# 1. create 2 qubit objects\n",
        "\n",
        "# 2. Transform the 2 qubits into the Bell-Pairs in state (|00> + |11>)/sqrt(2) = |b00>\n",
        "\n",
        "# 3. Print initial Bell-state density matrix\n",
        "\n",
        "# list to hold delay values\n",
        "delays = []\n",
        "# list to hold fidelity of either Bell-state depolarizing\n",
        "fidelities = []\n",
        "\n",
        "# constant depolar_rate\n",
        "depolar_rate = 5e4 # [Hz], Citation [1]\n",
        "\n",
        "delay = 1\n",
        "while delay < 3000:\n",
        "  ns.sim_reset()\n",
        "  # 3. Calculate noise probability with the current delay value and constant depolar_rate for the first qubit\n",
        "\n",
        "  # 4. Calculate noise probability with the current delay value and constant depolar_rate for the second qubit\n",
        "\n",
        "  # 5. calculate fidelity at delayed time\n",
        "  # complete the following line...\n",
        "  #fidelity =\n",
        "\n",
        "  fidelities.append(fidelity)\n",
        "\n",
        "  delays.append(delay)\n",
        "  delay += 10\n",
        "\n",
        "fig, ax = plt.subplots()\n",
        "ax.plot(delays, fidelities)\n",
        "\n",
        "plt.title(\"Fidelity vs. Time\")\n",
        "plt.xlabel(\"Time [ns]\")\n",
        "plt.ylabel(\"Bell-pair Fidelity\")\n",
        "\n",
        "# 6. Print final Bell-state density matrix\n",
        "print(\"Initial density matrix\", ns.qubits.reduced_dm([q1, q2]))"
      ],
      "metadata": {
        "id": "3u60yO5_wPWS"
      },
      "execution_count": null,
      "outputs": []
    },
    {
      "cell_type": "markdown",
      "source": [
        "Citations\n",
        "1. Choi, Joonhee, et al. \"Depolarization dynamics in a strongly interacting solid-state spin ensemble.\" Physical review letters 118.9 (2017): 093601."
      ],
      "metadata": {
        "id": "ZnRBhNp3VbE6"
      }
    }
  ]
}